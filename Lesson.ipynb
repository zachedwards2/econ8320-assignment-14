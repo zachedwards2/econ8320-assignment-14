{
  "cells": [
    {
      "cell_type": "markdown",
      "metadata": {
        "id": "VI-9F_eJCyW8"
      },
      "source": [
        "# Multiprocessing\n",
        "\n",
        "Or writing programs to use multiple processor cores"
      ]
    },
    {
      "cell_type": "markdown",
      "metadata": {
        "id": "bUXEEbLgCyXB"
      },
      "source": [
        "### This lesson is based on notes from [sebastianraschka.com](http://sebastianraschka.com/Articles/2014_multiprocessing.html)\n",
        "\n",
        "What actually happens when you run code, or execute a program on a computer? If we focus on Python, what happens when we run Python code? Does our computer \"speak Python\", understand what we type, and do what we ask?\n",
        "\n",
        "It turns out that no, our computer does NOT speak Python. When we execute Python code, our code is passed to an **interpreter**. This interpreter is what reads our code and translates what we have written into what is called **machine code**. Machine code is typically not human-readable. That's the reason we have languages like Python, R, C++, Java, etc. We need a way to express logic clearly and explicitly, so that it can be translated into the kind of code that our computer DOES understand.\n",
        "\n",
        "So far, human speech (or written human language) does not translate directly to machine code.\n",
        "\n",
        "But what actually happens once we write our code, and the computer starts to run that code? We can understand the basics of this process through the following six (simplified!) steps:\n",
        "\n",
        "1) The computer allocates memory to the program\n",
        "2) The program issues a series of instructions to the processor (the thinking part of the computer)\n",
        "3) Upon completion of one instruction by the processor, the next is started\n",
        "4) Information is returned from the processor to the program as needed\n",
        "5) New instructions are sent to the processor based on information received from the processor\n",
        "6) Return to step 2, repeat until program is finished\n",
        "\n",
        "\n",
        "When a program is running, it typically has a single space in memory in which it stores all information relevant to its task. This memory space allows the information to be used by whichever part of the program requires that information to use it. Basically, think of all of the things in memory as shared assets, and different parts of the program want to be able to access them at the same time. Kind of like if you share a storage space with a friend or family member. Sometimes you'll be pulling out the camping gear, and sometimes they will be instead.\n",
        "\n",
        "Information that is accessible across the entire program are called **globally defined values**. But not all variables are global. Some variables with reduced **scope** are not available to all segments of a program. You might have valuables that you don't share with the other people using your storage space. It's kind of like that. Variables with reduced scope are only available to parts of the program that share that scope.\n",
        "\n",
        "While for people, we restrict access primarily based on keeping valuables safe, programs tend to do it in order to ensure that information is not lost or modified while it is needed by a part of the program. You wouldn't want to have someone change your budgeting spreadsheet in the middle of the month, would you?\n",
        "\n",
        "Again, **scope** is a term used to define the areas in which a given value in memory is accessible. Variables that are **Global** in scope can typically be accessed by any function or command running as part of the program. Variables that are **Local** can only be accessed within the scope in which they are defined. A variable created inside a function is said to be **local** to that function, and only available until the function is concluded. Then it is either returned to the global space, or forgotten.\n"
      ]
    },
    {
      "cell_type": "markdown",
      "metadata": {
        "id": "rd1eo8jkCyXC"
      },
      "source": [
        "\n",
        "![](https://github.com/dustywhite7/Econ8320/blob/master/SlidesCode/serialParallel.png?raw=true)\n",
        "\n",
        "One of the single biggest changes in computational technology in the recent past was the advent and spread of parallel computation. This concept is the crux of this lesson, but needs a lot of explaining, because it isn't something that we as computer USERS have to deal with. It happens behind the scenes, despite its tremendous importance.\n",
        "\n",
        "### Sequential programs\n",
        "\n",
        "When we perform tasks, some steps must be performed sequentially. This happens because one task depends on the results of the other task. For example, an American football team will only make a play on fourth down if they fail to score or convert on third down. We can't fully implement our plan for fourth down until we have seen whether or not fourth down will occur.\n",
        "\n",
        "We need to aim our penalty shot in FIFA before taking the kick. We even need to wait to complete the details for the elimination rounds of the tournament until group play has ended. Until then, we don't know enough about which teams will advance to complete the bracket.\n",
        "\n",
        "In programming speak, sequential programs are sequential because it is critical that the results of one calculation be within the **scope** of the other calculations. If one sequential calculation cannot view the results of the prior calculation, then the second function cannot be completed.\n",
        "\n",
        "### Parallel Programs\n",
        "\n",
        "On the other hand, some calculations can be performed independent of the results of other steps. These tend to be calculations that can essentially be considered separate tasks, but part of a larger overall task. Some examples include\n",
        "\n",
        "- Batch processing of files\n",
        "- Non-sequential simulations\n",
        "- Serving recommended products to many users\n",
        "- Repeated random draws\n",
        "- Rendering polygons\n",
        "\n",
        "The key difference between serial and parallel programs is the dependency (or lack of dependency) of calculations on the results of previous calculations.\n",
        "\n",
        "- Serial programs rely on previous results\n",
        "- Parallel programs do not depend on the results of other calculations\n",
        "\n",
        "Parallel programs can occur simultaneously, allowing us to accelerate execution. If we can run four calculations simultaneously, then in theory we might be able to run 100 computations in the time that a serial program might run 25 similar computations.\n",
        "\n",
        "Parallel computations have enabled advances like improved graphics in video games, and have made possible the revolution in machine learning. Let's learn how to make parallel code work for our projects, as well!\n"
      ]
    },
    {
      "cell_type": "markdown",
      "metadata": {
        "id": "kKI5klc-CyXD"
      },
      "source": [
        "One place where parallel processing really shines is in estimating complex mathematical calculations. While some math can be solved algebraically, other math problems can only be solved computationally. The more computations we can perform in a given amount of time, the sooner we can find the solution to those problems. We can buy faster computers to speed up calculations, but we can also parallelize many calculations, giving us benefits without having to upgrade our computer!\n",
        "\n",
        "Some examples in which we will typically solve math problems with computation:\n",
        "- Estimating Producer/Consumer Surplus\n",
        "- Calculating probabilities from frequency tables\n",
        "- Integrating on complicated functional forms\n",
        "\n",
        "### Numeric Integration\n",
        "\n",
        "Often, when integrating complicated functions, there is no **algebraic** solution to the integral. This means that we need to estimate the value of the integral **numerically**. The process that we follow to estimate an integral numerically follows:\n",
        "\n",
        "1) Choose points at which to estimate the value of the function\n",
        "2) Choose bandwidth\n",
        "3) Multiply function values by bandwidth\n",
        "4) Add all estimates to calculate approximate integral\n",
        "\n",
        "![](https://github.com/dustywhite7/Econ8320/blob/master/SlidesCode/integralProcess.png?raw=true)\n",
        "\n",
        "Let's start by just defining a function to integrate. We can use\n",
        "\n",
        "$$ f(x) = \\frac{1}{1+x^2} $$\n",
        "\n",
        "as our example function. First, we need to write this function as a Python function:"
      ]
    },
    {
      "cell_type": "code",
      "execution_count": null,
      "metadata": {
        "id": "BxAuOuepCyXD"
      },
      "outputs": [],
      "source": [
        "# define any function here!\n",
        "def f(x):\n",
        "    # return the value of the function given x\n",
        "    return 1/(1 + x**2)"
      ]
    },
    {
      "cell_type": "markdown",
      "metadata": {
        "id": "-VTaqDKQCyXF"
      },
      "source": [
        "Now, we need to write a function that can sample from our function, and calculate the area of the sampled rectangles, and then return an approximate area."
      ]
    },
    {
      "cell_type": "code",
      "execution_count": null,
      "metadata": {
        "id": "ylN8u-41CyXF"
      },
      "outputs": [],
      "source": [
        "import random\n",
        "\n",
        "def serial_integral(nSample, f, xmin, xmax):\n",
        "  # determine points of estimation\n",
        "  sample = sorted([random.uniform(xmin, xmax) for i in range(nSample)])\n",
        "  # Calculate height at each point\n",
        "  value = [f(i) for i in sample]\n",
        "  # Calculate areas of rectangles\n",
        "  # We have to specially calculate the first rectangle,\n",
        "  #   because xmin is not part of our list of samples\n",
        "  area = [(sample[0]-xmin)*value[0]] +\n",
        "    [(sample[i]-sample[i-1])*value[i] for i in range(1, len(sample))]\n",
        "  # Return sum as an approximate integral\n",
        "  return sum(area)"
      ]
    },
    {
      "cell_type": "markdown",
      "metadata": {
        "id": "_z-keMMYCyXG"
      },
      "source": [
        "This is our function for actually integrating a function `f` from `xmin` to `xmax` across `nSample` random intervals. Below is a picture of how this function gets (approximately) closer to estimating the true integral value as we increase the number of points at which we sample the function. Because integration is based on randomly drawn intervals, the convergence is not smooth. If we took many integrals at each bin number, however, we would expect this plot to become smooth.\n",
        "\n",
        "![](https://github.com/dustywhite7/Econ8320/blob/master/SlidesCode/integral.png?raw=true)\n",
        "\n",
        "### Parallel calculations\n",
        "\n",
        "The ``multiprocessing`` library is designed to create multiple sub-instances of the python interpreter called processes, with each process returning values that are independent of the other processes. In order to coordinate this effort, some computational power must be assigned to send off processes and to retrieve their results upon completion.\n",
        "\n",
        "This \"overhead\" means that parallel processing is not usually justified for very simple problems, and is reserved for computationally intensive problems, or where there are very many processes to be completed in one batch.\n",
        "\n",
        "Given the overhead of parallelization, it is not worthwhile to make a parallel version of our single integral function above. Instead, it IS worthwhile to create a function that can calculate the integral many times in parallel. Like we said above, convergence is noisy, but an average value for each given number of bins should be more stable.\n",
        "\n",
        "Let's see how much time we can save by making a function that will calculate an average value in parallel when compared to a serialized alternative."
      ]
    },
    {
      "cell_type": "code",
      "execution_count": null,
      "metadata": {
        "id": "2WW0jNmeCyXG"
      },
      "outputs": [],
      "source": [
        "import multiprocessing as mp # This module is part of the\n",
        "\t\t\t     # python standard library\n",
        "\n",
        "def serial_average(n_bins, n_reps, f, xmin, xmax):\n",
        "  attempts = [serial_integral(n_bins, f, xmin, xmax) for i in range(n_reps)]\n",
        "  return sum(attempts)/n_reps\n",
        "\n",
        "def parallel_average(processes, n_bins, n_reps, f, xmin, xmax):\n",
        "  pool = mp.Pool(processes=processes)\n",
        "  results = [pool.apply_async(serial_integral, (n_bins, f, xmin, xmax)) for i in range(n_reps)]\n",
        "  results = [p.get() for p in results]\n",
        "  return sum(results)/n_reps"
      ]
    },
    {
      "cell_type": "markdown",
      "metadata": {
        "id": "e1AJKfmCCyXH"
      },
      "source": [
        "Now let's explore what that function does."
      ]
    },
    {
      "cell_type": "code",
      "execution_count": null,
      "metadata": {
        "id": "wpWoSOOcCyXI"
      },
      "outputs": [],
      "source": [
        "def parallel_average(processes, n_bins, n_reps, f, xmin, xmax):\n",
        "  pool = mp.Pool(processes=processes)\n",
        "  ...\n",
        "  return ..."
      ]
    },
    {
      "cell_type": "markdown",
      "metadata": {
        "id": "uzO1-I0ECyXJ"
      },
      "source": [
        "The `mp.Pool` class provides the functionality to organize our processes, and to define the degree to which we want to spread our work across various **processes**. We can specify how many active processes there should be at any time with the number of processes.\n",
        "\n",
        "We need to take care to choose the right number of processes for our machine! In general, my experience has been that performance is best when you keep the number of processes at or below the number of cores available in your computer's processor."
      ]
    },
    {
      "cell_type": "code",
      "execution_count": null,
      "metadata": {
        "id": "1P8xCUOECyXJ"
      },
      "outputs": [],
      "source": [
        "def parallel_average(processes, n_bins, n_reps, f, xmin, xmax):\n",
        "  ...\n",
        "  results = [pool.apply_async(serial_integral, (n_bins, f, xmin, xmax)) for i in range(n_reps)]\n",
        "  ...\n",
        "  return ..."
      ]
    },
    {
      "cell_type": "markdown",
      "metadata": {
        "id": "7Mv9Du87CyXK"
      },
      "source": [
        "We next use the `apply_async` method to pass the values that we want our pooled instances to calculate. We need to provide the function to be executed, as well as the arguments for the function in each iteration with each each of the arguments an element in a tuple. In our case, we are not varying the arguments, so we provide a single tuple that never changes, but we could vary those arguments whenever necessary or desirable."
      ]
    },
    {
      "cell_type": "code",
      "execution_count": null,
      "metadata": {
        "id": "Uo_lMUXECyXK"
      },
      "outputs": [],
      "source": [
        "def parallel_average(processes, n_bins, n_reps, f, xmin, xmax):\n",
        "  ...\n",
        "  results = [p.get() for p in results]\n",
        "  ...\n",
        "  return ..."
      ]
    },
    {
      "cell_type": "markdown",
      "metadata": {
        "id": "FW17NYiPCyXK"
      },
      "source": [
        "The next step is to use the `get()` method on each element of our returned processes. This will fetch the return statement values from each of the processes that we executed in the last line.\n",
        "\n",
        "At this point the parallel computation is complete. The remainder of the function will look and work just like the results from our `serial_average` method.\n",
        "\n",
        "\n",
        "### Timing it\n",
        "\n",
        "Next, it is time to write code that will allow us to test our parallel and serial performance."
      ]
    },
    {
      "cell_type": "code",
      "execution_count": null,
      "metadata": {
        "id": "NGF51waCCyXL"
      },
      "outputs": [],
      "source": [
        "import timeit # library for timing execution of code\n",
        "\n",
        "benchmarks = [] # list to store our execution times\n",
        "\n",
        "benchmarks.append(timeit.Timer('serial_average(10000, 100, f, 0, 1)',\n",
        "  'from __main__ import serial_average, serial_integral, f').timeit(number=1))\n",
        "    # Note that we need to include a second line\n",
        "    # that imports our functions from __main__.\n",
        "    # This tells the timer what needs to be IN SCOPE\n",
        "\n",
        "benchmarks.append(timeit.Timer(\n",
        "  'parallel_average(2, 10000, 100, f, 0, 1)',\n",
        "  'from __main__ import parallel_average, serial_integral, f').timeit(\n",
        "    number=1))\n",
        "    # Need to include number of processes\n",
        "    # when timing the parallel implementation"
      ]
    },
    {
      "cell_type": "markdown",
      "metadata": {
        "id": "8xl8icmTCyXL"
      },
      "source": [
        "Amazing! When timing the output on my virtual machine (not at all a powerful computer), the parallel version runs nearly twice as fast (0.36 seconds vs 0.69 seconds). Even in a fairly trivial example, we see significant performance gains.\n",
        "\n",
        "When I ran a similar trial on my computer with 16 cores, I saw the following performance pattern:\n",
        "\n",
        "![w:750](https://github.com/dustywhite7/Econ8320/blob/master/SlidesCode/performance.png?raw=true)\n",
        "\n",
        "On 16 cores, the parallel version of this problem executes over 5x faster than the serial version! Some observations:\n",
        "\n",
        "- This was done on a 16-core processor, which is an expensive way to get a performance gain\n",
        "- Creating too many processes (going past 16 to 32) actually started to slow the computations down\n",
        "- We need to be aware of the hardware that we are utilizing when designing parallel code\n",
        "\n",
        "If you are unsure of how many processes you should run on your machine, the following command will show you how many CPU cores are available to Python:\n",
        "\n",
        "```python\n",
        "mp.cpu_count() # Tells us the number of available CPUs\n",
        "```\n",
        "\n",
        "Now it's your turn to give it a go!\n"
      ]
    },
    {
      "cell_type": "markdown",
      "metadata": {
        "id": "ZaRnxdIKCyXM"
      },
      "source": [
        "## Solve-it!\n",
        "\n",
        "Simulate 1,000 draws from a multivariate normal distribution and calculate the average value of the dependent variable, but do it 100 times! This is called \"bootstrapping\" and is a critical process in many statistical models and simulations. Draw from the following equation:\n",
        "\n",
        "$$ y = \\alpha + x_{1} + 2\\cdot x_{2} + \\frac{1}{2}x_{3} + \\epsilon $$\n",
        "\n",
        "where\n",
        "\n",
        "$\\alpha \\sim \\mathcal{N}(15,2)$, $x_1 \\sim \\mathcal{N}(3,5)$,\n",
        "\n",
        "$x_2 \\sim \\mathcal{N}(10,1)$, $x_3 \\sim \\mathcal{N}(8,8)$, and\n",
        "\n",
        "$\\epsilon \\sim \\mathcal{N}(0,1)$\n",
        "\n",
        "$\\mathcal{N}(\\mu, \\sigma)$ represents the Normal distribution with mean $\\mu$ and standard deviation $\\sigma$\n",
        "\n",
        "Write functions to generate all values and calculate . Test and time these draws using serial and parallel programming (2 cores), and report the difference in performance between the two versions.\n",
        "\n",
        "\n",
        "Call your serial function `sCalc`, and your parallel function `pCalc`, store your results from each function as a list, with the lists named `sResults` and `pResults`, respectively.\n",
        "\n",
        "Finally, store the timed values for each run as `sTime` and `pTime`, respectively. All code for this exercise should go in the cell labeled `#si-exercise` below.\n",
        "\n",
        "**NOTE: Because we are running code on a virtual machine, and because the problem is not very computationally intensive, we should not be surprised if the serial version of our code outperforms the parallel version for this assignment.**\n",
        "\n",
        "**OTHER NOTE: Because we need this to run in a reasonable amount of time, we are only running 100 rounds of sampling. Typical bootstrapping procedures default to 10,000 rounds as good practice.**"
      ]
    },
    {
      "cell_type": "code",
      "execution_count": 11,
      "metadata": {
        "colab": {
          "base_uri": "https://localhost:8080/"
        },
        "id": "7-DtjzZHCyXM",
        "outputId": "e51eed21-2356-46c9-dba8-ae0905d13329"
      },
      "outputs": [
        {
          "output_type": "stream",
          "name": "stdout",
          "text": [
            "Serial function results: [136.87934679091768, 137.30307976689167, 135.72259019627575, 130.4646463867282, 135.5028845827383, 135.24540007056453, 135.04087694431774, 129.3348073416974, 140.2709612409463, 127.91832291099443, 136.5278836478414, 133.73643014060966, 134.00217196062866, 138.81072819681256, 136.64855991096957, 130.40077614494382, 135.93115571643747, 134.1911655011288, 135.59698844952607, 131.46897519528028, 134.91021138079017, 135.98256349088982, 134.57259241134972, 132.7871382277558, 130.72898204655772, 133.48425596957534, 129.94152027869958, 131.8420554183506, 131.10805757424404, 133.4708291283392, 137.22341003160307, 136.54367923269575, 135.75456650633436, 135.2621587799188, 134.43338990458537, 131.84919808082645, 137.5827965351041, 136.9611139022358, 130.9831599985003, 132.31971056719226, 132.67003533820827, 133.73082983291437, 133.88389132483886, 132.7919826747237, 133.73203096581045, 129.9401714309536, 135.19970920259297, 134.79885360460713, 135.5397063769643, 135.2090785693578, 133.7318005630988, 136.33170110368397, 127.86761799076098, 136.10655468892048, 127.26305747775218, 133.9347277369798, 135.41783800642804, 135.47333586216126, 131.61947395727128, 140.68013383173542, 130.0512594545238, 137.70285545078218, 134.93357381319748, 135.71522330681708, 137.1980531818724, 134.132503662927, 135.3787824891588, 133.05838410773168, 133.87949629883533, 135.03739841900725, 136.22638054233818, 133.72923416730563, 131.25313712453604, 139.3269886605854, 130.90450338958692, 137.96650613873453, 136.4103579555923, 134.21149204076946, 133.49585746916003, 132.86035714415553, 130.1974361716121, 134.52298155999796, 132.76810266353343, 136.70930877649837, 132.80975473349122, 133.9340215076786, 132.357442212555, 132.9948479506074, 129.84765946130838, 130.826136471561, 134.0198341584601, 135.83130640936758, 135.004728831943, 139.3018932886837, 138.3411890698567, 134.74182043055166, 139.66134987266986, 131.91995941514315, 137.74900810756617, 136.5541709253763]\n",
            "Parallel function results: [132.1851835544596, 135.97728105861495, 131.40142489631805, 139.28274984650372, 130.54295566278262, 132.99818182605281, 134.8091755277329, 134.52456330190518, 134.54174037602624, 132.65588505563852, 133.65224786795966, 132.4825443849463, 139.36826989444324, 130.64472121916324, 137.5738104508967, 135.78882208611367, 136.41871622423514, 132.21730194753883, 132.94072003868934, 132.4174665592129, 136.1838855454801, 131.9755129718153, 131.73647175025155, 135.04696101204672, 130.91393341393504, 136.8798733599893, 138.00630003307876, 130.43970532054152, 140.8241868761148, 135.44638074982515, 133.2103948472669, 135.65173060234724, 127.85659630009206, 132.3449792519483, 138.40753370398016, 130.87761591024014, 134.50494572759203, 137.48179955378413, 129.83195298085386, 137.53859162865962, 132.77884808444568, 136.12529911452972, 131.17938259804475, 137.1033374187932, 139.7827966793235, 133.36578063678917, 138.49973521801857, 135.744749667541, 133.64470205511367, 129.69133651081304, 134.51219834821904, 133.9921234848367, 137.32777987329277, 137.8156700844033, 137.72112317818824, 133.70533767585212, 128.87193996557735, 131.38635601444307, 134.41922788680915, 135.5235670373388, 132.4657715853794, 131.1860402338791, 131.41968127957466, 133.7746150368545, 129.19143414363674, 133.5658648459431, 133.87410597676921, 143.03603231502774, 136.90306359615485, 133.82727048372817, 133.97552868705168, 137.62498622244306, 139.69766519679158, 132.7026826211456, 130.15954943641685, 135.6349669708115, 137.9793533543166, 131.37759093398006, 136.8901709904862, 134.6997057238963, 134.1971368325029, 135.43304517430553, 132.9644491182387, 134.98648067864633, 138.17639619882297, 128.27951784404132, 134.78757958418817, 136.61809075964337, 134.8370778811023, 135.87513258985106, 135.75924228032864, 132.97615081052834, 132.34349008209992, 133.98149610361148, 134.4567107607658, 135.4809467760541, 130.98532272775458, 135.93064457740334, 141.06169034100597, 135.85096500869096]\n",
            "Serial function time: 0.531461238861084\n",
            "Parallel function time: 1.252021312713623\n",
            "Speedup: 0.4244825814579772\n"
          ]
        }
      ],
      "source": [
        "# Import necessary libraries\n",
        "import numpy as np\n",
        "import time\n",
        "from joblib import Parallel, delayed\n",
        "\n",
        "# Define a function to generate a single draw from the multivariate normal distribution\n",
        "def generate_draw(alpha_mean, alpha_std, x1_mean, x1_std, x2_mean, x2_std, x3_mean, x3_std, epsilon_std):\n",
        "    alpha = np.random.normal(alpha_mean, alpha_std)\n",
        "    x1 = np.random.normal(x1_mean, x1_std)\n",
        "    x2 = np.random.normal(x2_mean, x2_std)\n",
        "    x3 = np.random.normal(x3_mean, x3_std)\n",
        "    epsilon = np.random.normal(0, epsilon_std)\n",
        "    y = alpha + x1 + 2 * x2 + 12 * x3 + epsilon\n",
        "    return y\n",
        "\n",
        "# Define the serial function to calculate the average value of the dependent variable\n",
        "def sCalc(num_draws, num_bootstraps, alpha_mean, alpha_std, x1_mean, x1_std, x2_mean, x2_std, x3_mean, x3_std, epsilon_std):\n",
        "    results = []\n",
        "    for _ in range(num_bootstraps):\n",
        "        draws = [generate_draw(alpha_mean, alpha_std, x1_mean, x1_std, x2_mean, x2_std, x3_mean, x3_std, epsilon_std) for _ in range(num_draws)]\n",
        "        results.append(np.mean(draws))\n",
        "    return results\n",
        "\n",
        "# Define the parallel function to calculate the average value of the dependent variable\n",
        "def pCalc(num_draws, num_bootstraps, alpha_mean, alpha_std, x1_mean, x1_std, x2_mean, x2_std, x3_mean, x3_std, epsilon_std):\n",
        "    def bootstrap():\n",
        "        draws = [generate_draw(alpha_mean, alpha_std, x1_mean, x1_std, x2_mean, x2_std, x3_mean, x3_std, epsilon_std) for _ in range(num_draws)]\n",
        "        return np.mean(draws)\n",
        "\n",
        "    results = Parallel(n_jobs=2)(delayed(bootstrap)() for _ in range(num_bootstraps))\n",
        "    return results\n",
        "\n",
        "# Set the parameters\n",
        "num_draws = 1000\n",
        "num_bootstraps = 100\n",
        "alpha_mean = 15\n",
        "alpha_std = 2\n",
        "x1_mean = 3\n",
        "x1_std = 5\n",
        "x2_mean = 10\n",
        "x2_std = 1\n",
        "x3_mean = 8\n",
        "x3_std = 8\n",
        "epsilon_std = 1\n",
        "\n",
        "# Time the serial function\n",
        "start_time = time.time()\n",
        "sResults = sCalc(num_draws, num_bootstraps, alpha_mean, alpha_std, x1_mean, x1_std, x2_mean, x2_std, x3_mean, x3_std, epsilon_std)\n",
        "sTime = time.time() - start_time\n",
        "\n",
        "# Time the parallel function\n",
        "start_time = time.time()\n",
        "pResults = pCalc(num_draws, num_bootstraps, alpha_mean, alpha_std, x1_mean, x1_std, x2_mean, x2_std, x3_mean, x3_std, epsilon_std)\n",
        "pTime = time.time() - start_time\n",
        "\n",
        "# Print the results\n",
        "print(\"Serial function results:\", sResults)\n",
        "print(\"Parallel function results:\", pResults)\n",
        "print(\"Serial function time:\", sTime)\n",
        "print(\"Parallel function time:\", pTime)\n",
        "print(\"Speedup:\", sTime / pTime)"
      ]
    }
  ],
  "metadata": {
    "celltoolbar": "Create Assignment",
    "kernelspec": {
      "display_name": "Python 3 (ipykernel)",
      "language": "python",
      "name": "python3"
    },
    "language_info": {
      "codemirror_mode": {
        "name": "ipython",
        "version": 3
      },
      "file_extension": ".py",
      "mimetype": "text/x-python",
      "name": "python",
      "nbconvert_exporter": "python",
      "pygments_lexer": "ipython3",
      "version": "3.9.13"
    },
    "colab": {
      "provenance": []
    }
  },
  "nbformat": 4,
  "nbformat_minor": 0
}